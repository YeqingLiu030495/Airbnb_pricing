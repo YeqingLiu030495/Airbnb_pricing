{
 "cells": [
  {
   "cell_type": "code",
   "execution_count": 31,
   "metadata": {},
   "outputs": [],
   "source": [
    "from statsmodels.iolib.summary2 import summary_col\n",
    "import pandas as pd\n",
    "import numpy as np\n",
    "import statsmodels.api as sm\n",
    "\n",
    "%store -r time_dummy\n",
    "%store -r room_type_dummy"
   ]
  },
  {
   "cell_type": "markdown",
   "metadata": {},
   "source": [
    "### read in cleaned data"
   ]
  },
  {
   "cell_type": "code",
   "execution_count": 32,
   "metadata": {},
   "outputs": [],
   "source": [
    "df = pd.read_csv('airbnbdata_cleaned.csv', index_col = 0)\n",
    "time_dummy = list(time_dummy.columns.values)\n",
    "room_type_dummy = list(room_type_dummy.columns.values)\n",
    "time_dummy = df[time_dummy]\n",
    "room_type_dummy = df[room_type_dummy]"
   ]
  },
  {
   "cell_type": "code",
   "execution_count": 70,
   "metadata": {
    "scrolled": true
   },
   "outputs": [
    {
     "data": {
      "text/plain": [
       "0"
      ]
     },
     "execution_count": 70,
     "metadata": {},
     "output_type": "execute_result"
    }
   ],
   "source": [
    "len(df.loc[df['review_scores_rating'] == 0, :])"
   ]
  },
  {
   "cell_type": "code",
   "execution_count": 71,
   "metadata": {},
   "outputs": [
    {
     "data": {
      "text/plain": [
       "1221"
      ]
     },
     "execution_count": 71,
     "metadata": {},
     "output_type": "execute_result"
    }
   ],
   "source": [
    "len(df.loc[df['review_scores_rating'] == 1, :])"
   ]
  },
  {
   "cell_type": "code",
   "execution_count": 73,
   "metadata": {},
   "outputs": [
    {
     "data": {
      "text/plain": [
       "count    249557.000000\n",
       "mean          4.742605\n",
       "std           0.500412\n",
       "min           1.000000\n",
       "25%           4.650000\n",
       "50%           4.950000\n",
       "75%           5.000000\n",
       "max           5.000000\n",
       "Name: review_scores_rating, dtype: float64"
      ]
     },
     "execution_count": 73,
     "metadata": {},
     "output_type": "execute_result"
    }
   ],
   "source": [
    "df.describe()['review_scores_rating']"
   ]
  },
  {
   "cell_type": "markdown",
   "metadata": {},
   "source": [
    "### first try baseline model -- not a valid model"
   ]
  },
  {
   "cell_type": "code",
   "execution_count": 15,
   "metadata": {},
   "outputs": [
    {
     "name": "stdout",
     "output_type": "stream",
     "text": [
      "                            OLS Regression Results                            \n",
      "==============================================================================\n",
      "Dep. Variable:          price in Euro   R-squared:                       0.097\n",
      "Model:                            OLS   Adj. R-squared:                  0.097\n",
      "Method:                 Least Squares   F-statistic:                     1074.\n",
      "Date:                Thu, 05 Dec 2019   Prob (F-statistic):               0.00\n",
      "Time:                        19:14:31   Log-Likelihood:            -1.6183e+06\n",
      "No. Observations:              249557   AIC:                         3.237e+06\n",
      "Df Residuals:                  249531   BIC:                         3.237e+06\n",
      "Df Model:                          25                                         \n",
      "Covariance Type:            nonrobust                                         \n",
      "====================================================================================\n",
      "                       coef    std err          t      P>|t|      [0.025      0.975]\n",
      "------------------------------------------------------------------------------------\n",
      "const              -30.1608      2.014    -14.978      0.000     -34.108     -26.214\n",
      "property_type       -0.6314      0.668     -0.945      0.345      -1.941       0.679\n",
      "accommodates         8.3622      0.329     25.409      0.000       7.717       9.007\n",
      "bathrooms           39.6137      0.670     59.085      0.000      38.300      40.928\n",
      "bedrooms            17.6602      0.713     24.781      0.000      16.263      19.057\n",
      "beds                -3.4841      0.477     -7.298      0.000      -4.420      -2.548\n",
      "amenities_counts     0.0888      0.027      3.246      0.001       0.035       0.142\n",
      "info_count           0.0320      0.002     15.902      0.000       0.028       0.036\n",
      "Private room       -14.4025      0.750    -19.195      0.000     -15.873     -12.932\n",
      "Shared room        -25.1506      1.499    -16.773      0.000     -28.089     -22.212\n",
      "2018-05              1.2432      2.336      0.532      0.595      -3.335       5.822\n",
      "2018-07              2.3593      2.279      1.035      0.301      -2.108       6.826\n",
      "2018-08              1.9816      2.275      0.871      0.384      -2.478       6.441\n",
      "2018-09              2.1917      2.239      0.979      0.328      -2.197       6.581\n",
      "2018-10              2.1833      2.201      0.992      0.321      -2.131       6.497\n",
      "2018-11              1.9647      2.181      0.901      0.368      -2.310       6.240\n",
      "2018-12              1.5434      2.165      0.713      0.476      -2.700       5.787\n",
      "2019-01              2.4555      2.141      1.147      0.251      -1.740       6.651\n",
      "2019-02              2.3524      2.124      1.107      0.268      -1.811       6.516\n",
      "2019-03              3.5970      2.116      1.700      0.089      -0.551       7.745\n",
      "2019-04              4.1405      2.090      1.981      0.048       0.044       8.237\n",
      "2019-05              4.3919      2.058      2.134      0.033       0.358       8.425\n",
      "2019-06              4.1848      2.041      2.050      0.040       0.184       8.185\n",
      "2019-07              4.2511      2.032      2.092      0.036       0.268       8.234\n",
      "2019-08              6.0399      2.028      2.978      0.003       2.064      10.015\n",
      "2019-09              5.4750      2.031      2.696      0.007       1.495       9.455\n",
      "==============================================================================\n",
      "Omnibus:                   748216.634   Durbin-Watson:                   1.990\n",
      "Prob(Omnibus):                  0.000   Jarque-Bera (JB):      52961461786.485\n",
      "Skew:                          44.188   Prob(JB):                         0.00\n",
      "Kurtosis:                    2258.109   Cond. No.                     4.32e+03\n",
      "==============================================================================\n",
      "\n",
      "Warnings:\n",
      "[1] Standard Errors assume that the covariance matrix of the errors is correctly specified.\n",
      "[2] The condition number is large, 4.32e+03. This might indicate that there are\n",
      "strong multicollinearity or other numerical problems.\n"
     ]
    }
   ],
   "source": [
    "listing_attr = df[['property_type','accommodates','bathrooms','bedrooms', 'beds','amenities_counts','info_count']]\n",
    "x_list = [listing_attr,room_type_dummy,time_dummy]\n",
    "df_x1 = pd.concat(x_list,axis =1)\n",
    "df_x_const = sm.add_constant(df_x1).apply(pd.to_numeric)\n",
    "\n",
    "df_y = df['price in Euro']\n",
    "modelbase = sm.OLS(df_y, df_x_const).fit() \n",
    "print(modelbase.summary())"
   ]
  },
  {
   "cell_type": "markdown",
   "metadata": {},
   "source": [
    "### Model 1 with host attributies only "
   ]
  },
  {
   "cell_type": "code",
   "execution_count": 16,
   "metadata": {},
   "outputs": [
    {
     "name": "stdout",
     "output_type": "stream",
     "text": [
      "                            OLS Regression Results                            \n",
      "==============================================================================\n",
      "Dep. Variable:          price in Euro   R-squared:                       0.568\n",
      "Model:                            OLS   Adj. R-squared:                  0.568\n",
      "Method:                 Least Squares   F-statistic:                 1.313e+04\n",
      "Date:                Thu, 05 Dec 2019   Prob (F-statistic):               0.00\n",
      "Time:                        19:14:34   Log-Likelihood:            -1.6745e+05\n",
      "No. Observations:              249557   AIC:                         3.350e+05\n",
      "Df Residuals:                  249531   BIC:                         3.352e+05\n",
      "Df Model:                          25                                         \n",
      "Covariance Type:            nonrobust                                         \n",
      "====================================================================================\n",
      "                       coef    std err          t      P>|t|      [0.025      0.975]\n",
      "------------------------------------------------------------------------------------\n",
      "const                3.3655      0.006    559.581      0.000       3.354       3.377\n",
      "property_type        0.0056      0.002      2.784      0.005       0.002       0.009\n",
      "accommodates         0.1045      0.001    106.308      0.000       0.103       0.106\n",
      "bathrooms            0.1190      0.002     59.436      0.000       0.115       0.123\n",
      "bedrooms             0.1127      0.002     52.958      0.000       0.109       0.117\n",
      "beds                -0.0302      0.001    -21.148      0.000      -0.033      -0.027\n",
      "amenities_counts     0.0019   8.17e-05     23.412      0.000       0.002       0.002\n",
      "info_count           0.0002   6.01e-06     34.436      0.000       0.000       0.000\n",
      "Private room        -0.4835      0.002   -215.745      0.000      -0.488      -0.479\n",
      "Shared room         -1.1392      0.004   -254.386      0.000      -1.148      -1.130\n",
      "2018-05              0.0102      0.007      1.457      0.145      -0.004       0.024\n",
      "2018-07              0.0366      0.007      5.370      0.000       0.023       0.050\n",
      "2018-08              0.0500      0.007      7.361      0.000       0.037       0.063\n",
      "2018-09              0.0505      0.007      7.554      0.000       0.037       0.064\n",
      "2018-10              0.0366      0.007      5.563      0.000       0.024       0.049\n",
      "2018-11              0.0349      0.007      5.365      0.000       0.022       0.048\n",
      "2018-12              0.0301      0.006      4.648      0.000       0.017       0.043\n",
      "2019-01              0.0301      0.006      4.711      0.000       0.018       0.043\n",
      "2019-02              0.0307      0.006      4.845      0.000       0.018       0.043\n",
      "2019-03              0.0373      0.006      5.905      0.000       0.025       0.050\n",
      "2019-04              0.0409      0.006      6.554      0.000       0.029       0.053\n",
      "2019-05              0.0482      0.006      7.836      0.000       0.036       0.060\n",
      "2019-06              0.0562      0.006      9.221      0.000       0.044       0.068\n",
      "2019-07              0.0681      0.006     11.226      0.000       0.056       0.080\n",
      "2019-08              0.0756      0.006     12.486      0.000       0.064       0.088\n",
      "2019-09              0.0760      0.006     12.527      0.000       0.064       0.088\n",
      "==============================================================================\n",
      "Omnibus:                    75018.262   Durbin-Watson:                   1.868\n",
      "Prob(Omnibus):                  0.000   Jarque-Bera (JB):           991840.672\n",
      "Skew:                           1.076   Prob(JB):                         0.00\n",
      "Kurtosis:                      12.526   Cond. No.                     4.32e+03\n",
      "==============================================================================\n",
      "\n",
      "Warnings:\n",
      "[1] Standard Errors assume that the covariance matrix of the errors is correctly specified.\n",
      "[2] The condition number is large, 4.32e+03. This might indicate that there are\n",
      "strong multicollinearity or other numerical problems.\n"
     ]
    }
   ],
   "source": [
    "listing_attr = df[['property_type','accommodates','bathrooms','bedrooms', 'beds','amenities_counts','info_count']]\n",
    "x_list = [listing_attr,room_type_dummy,time_dummy]\n",
    "df_x1 = pd.concat(x_list,axis =1)\n",
    "df_x_const = sm.add_constant(df_x1).apply(pd.to_numeric)\n",
    "\n",
    "df_y = df['price in Euro'].apply(lambda x: np.log(x))\n",
    "model1 = sm.OLS(df_y, df_x_const).fit() \n",
    "print(model1.summary())"
   ]
  },
  {
   "cell_type": "markdown",
   "metadata": {},
   "source": [
    "### Model-2 with listing attributes and distance to center  -- first we tried without normlization"
   ]
  },
  {
   "cell_type": "code",
   "execution_count": 17,
   "metadata": {},
   "outputs": [
    {
     "name": "stdout",
     "output_type": "stream",
     "text": [
      "                            OLS Regression Results                            \n",
      "==============================================================================\n",
      "Dep. Variable:          price in Euro   R-squared:                       0.568\n",
      "Model:                            OLS   Adj. R-squared:                  0.568\n",
      "Method:                 Least Squares   F-statistic:                 1.263e+04\n",
      "Date:                Thu, 05 Dec 2019   Prob (F-statistic):               0.00\n",
      "Time:                        19:14:43   Log-Likelihood:            -1.6742e+05\n",
      "No. Observations:              249557   AIC:                         3.349e+05\n",
      "Df Residuals:                  249530   BIC:                         3.352e+05\n",
      "Df Model:                          26                                         \n",
      "Covariance Type:            nonrobust                                         \n",
      "====================================================================================\n",
      "                       coef    std err          t      P>|t|      [0.025      0.975]\n",
      "------------------------------------------------------------------------------------\n",
      "const                3.3621      0.006    557.550      0.000       3.350       3.374\n",
      "property_type        0.0060      0.002      2.980      0.003       0.002       0.010\n",
      "accommodates         0.1043      0.001    106.033      0.000       0.102       0.106\n",
      "bathrooms            0.1167      0.002     57.583      0.000       0.113       0.121\n",
      "bedrooms             0.1122      0.002     52.717      0.000       0.108       0.116\n",
      "beds                -0.0302      0.001    -21.210      0.000      -0.033      -0.027\n",
      "amenities_counts     0.0019   8.17e-05     23.432      0.000       0.002       0.002\n",
      "info_count           0.0002   6.05e-06     35.018      0.000       0.000       0.000\n",
      "distance_Km          0.0004   5.69e-05      7.380      0.000       0.000       0.001\n",
      "Private room        -0.4841      0.002   -215.893      0.000      -0.488      -0.480\n",
      "Shared room         -1.1375      0.004   -253.675      0.000      -1.146      -1.129\n",
      "2018-05              0.0101      0.007      1.449      0.147      -0.004       0.024\n",
      "2018-07              0.0365      0.007      5.358      0.000       0.023       0.050\n",
      "2018-08              0.0499      0.007      7.340      0.000       0.037       0.063\n",
      "2018-09              0.0504      0.007      7.532      0.000       0.037       0.063\n",
      "2018-10              0.0363      0.007      5.524      0.000       0.023       0.049\n",
      "2018-11              0.0347      0.007      5.330      0.000       0.022       0.047\n",
      "2018-12              0.0299      0.006      4.619      0.000       0.017       0.043\n",
      "2019-01              0.0300      0.006      4.696      0.000       0.017       0.043\n",
      "2019-02              0.0306      0.006      4.831      0.000       0.018       0.043\n",
      "2019-03              0.0372      0.006      5.889      0.000       0.025       0.050\n",
      "2019-04              0.0407      0.006      6.515      0.000       0.028       0.053\n",
      "2019-05              0.0475      0.006      7.730      0.000       0.035       0.060\n",
      "2019-06              0.0553      0.006      9.067      0.000       0.043       0.067\n",
      "2019-07              0.0672      0.006     11.064      0.000       0.055       0.079\n",
      "2019-08              0.0744      0.006     12.283      0.000       0.063       0.086\n",
      "2019-09              0.0744      0.006     12.256      0.000       0.062       0.086\n",
      "==============================================================================\n",
      "Omnibus:                    74635.396   Durbin-Watson:                   1.868\n",
      "Prob(Omnibus):                  0.000   Jarque-Bera (JB):           990758.260\n",
      "Skew:                           1.068   Prob(JB):                         0.00\n",
      "Kurtosis:                      12.525   Cond. No.                     4.32e+03\n",
      "==============================================================================\n",
      "\n",
      "Warnings:\n",
      "[1] Standard Errors assume that the covariance matrix of the errors is correctly specified.\n",
      "[2] The condition number is large, 4.32e+03. This might indicate that there are\n",
      "strong multicollinearity or other numerical problems.\n"
     ]
    }
   ],
   "source": [
    "dis_modle = df[['property_type','accommodates','bathrooms','bedrooms', 'beds','amenities_counts','info_count',\\\n",
    "                     'distance_Km']]\n",
    "x_list = [dis_modle,room_type_dummy,time_dummy]\n",
    "df_x2 = pd.concat(x_list,axis =1)\n",
    "df_x_const = sm.add_constant(df_x2).apply(pd.to_numeric)\n",
    "\n",
    "df_y = df['price in Euro'].apply(lambda x: np.log(x))\n",
    "#df_y = df_listings['price in Euro']\n",
    "model2 = sm.OLS(df_y, df_x_const).fit() \n",
    "print(model2.summary())"
   ]
  },
  {
   "cell_type": "markdown",
   "metadata": {},
   "source": [
    "### Model-2 with listing attributes and distance to center - with normalization and got better result"
   ]
  },
  {
   "cell_type": "code",
   "execution_count": 18,
   "metadata": {},
   "outputs": [],
   "source": [
    "df['distance_Km'] = df['distance_Km'].apply(lambda x: np.log(x))"
   ]
  },
  {
   "cell_type": "code",
   "execution_count": 19,
   "metadata": {},
   "outputs": [
    {
     "name": "stdout",
     "output_type": "stream",
     "text": [
      "                            OLS Regression Results                            \n",
      "==============================================================================\n",
      "Dep. Variable:          price in Euro   R-squared:                       0.571\n",
      "Model:                            OLS   Adj. R-squared:                  0.570\n",
      "Method:                 Least Squares   F-statistic:                 1.275e+04\n",
      "Date:                Thu, 05 Dec 2019   Prob (F-statistic):               0.00\n",
      "Time:                        19:14:50   Log-Likelihood:            -1.6674e+05\n",
      "No. Observations:              249557   AIC:                         3.335e+05\n",
      "Df Residuals:                  249530   BIC:                         3.338e+05\n",
      "Df Model:                          26                                         \n",
      "Covariance Type:            nonrobust                                         \n",
      "====================================================================================\n",
      "                       coef    std err          t      P>|t|      [0.025      0.975]\n",
      "------------------------------------------------------------------------------------\n",
      "const                3.5127      0.007    490.472      0.000       3.499       3.527\n",
      "property_type        0.0051      0.002      2.583      0.010       0.001       0.009\n",
      "accommodates         0.1050      0.001    107.079      0.000       0.103       0.107\n",
      "bathrooms            0.1328      0.002     65.415      0.000       0.129       0.137\n",
      "bedrooms             0.1155      0.002     54.404      0.000       0.111       0.120\n",
      "beds                -0.0307      0.001    -21.569      0.000      -0.033      -0.028\n",
      "amenities_counts     0.0020   8.15e-05     24.338      0.000       0.002       0.002\n",
      "info_count           0.0002   6.04e-06     29.996      0.000       0.000       0.000\n",
      "distance_Km         -0.0642      0.002    -37.614      0.000      -0.068      -0.061\n",
      "Private room        -0.4830      0.002   -216.125      0.000      -0.487      -0.479\n",
      "Shared room         -1.1504      0.004   -257.043      0.000      -1.159      -1.142\n",
      "2018-05              0.0105      0.007      1.503      0.133      -0.003       0.024\n",
      "2018-07              0.0370      0.007      5.454      0.000       0.024       0.050\n",
      "2018-08              0.0512      0.007      7.551      0.000       0.038       0.064\n",
      "2018-09              0.0518      0.007      7.763      0.000       0.039       0.065\n",
      "2018-10              0.0387      0.007      5.897      0.000       0.026       0.052\n",
      "2018-11              0.0370      0.006      5.697      0.000       0.024       0.050\n",
      "2018-12              0.0320      0.006      4.957      0.000       0.019       0.045\n",
      "2019-01              0.0315      0.006      4.935      0.000       0.019       0.044\n",
      "2019-02              0.0321      0.006      5.074      0.000       0.020       0.045\n",
      "2019-03              0.0388      0.006      6.152      0.000       0.026       0.051\n",
      "2019-04              0.0430      0.006      6.916      0.000       0.031       0.055\n",
      "2019-05              0.0524      0.006      8.546      0.000       0.040       0.064\n",
      "2019-06              0.0618      0.006     10.158      0.000       0.050       0.074\n",
      "2019-07              0.0739      0.006     12.199      0.000       0.062       0.086\n",
      "2019-08              0.0828      0.006     13.698      0.000       0.071       0.095\n",
      "2019-09              0.0852      0.006     14.073      0.000       0.073       0.097\n",
      "==============================================================================\n",
      "Omnibus:                    78379.674   Durbin-Watson:                   1.870\n",
      "Prob(Omnibus):                  0.000   Jarque-Bera (JB):          1038085.370\n",
      "Skew:                           1.140   Prob(JB):                         0.00\n",
      "Kurtosis:                      12.728   Cond. No.                     4.32e+03\n",
      "==============================================================================\n",
      "\n",
      "Warnings:\n",
      "[1] Standard Errors assume that the covariance matrix of the errors is correctly specified.\n",
      "[2] The condition number is large, 4.32e+03. This might indicate that there are\n",
      "strong multicollinearity or other numerical problems.\n"
     ]
    }
   ],
   "source": [
    "dis_modle = df[['property_type','accommodates','bathrooms','bedrooms', 'beds','amenities_counts','info_count',\\\n",
    "                     'distance_Km']]\n",
    "x_list = [dis_modle,room_type_dummy,time_dummy]\n",
    "df_x2 = pd.concat(x_list,axis =1)\n",
    "df_x_const = sm.add_constant(df_x2).apply(pd.to_numeric)\n",
    "\n",
    "df_y = df['price in Euro'].apply(lambda x: np.log(x))\n",
    "#df_y = df_listings['price in Euro']\n",
    "model2 = sm.OLS(df_y, df_x_const).fit() \n",
    "print(model2.summary())"
   ]
  },
  {
   "cell_type": "markdown",
   "metadata": {},
   "source": [
    "### Model-3 listing attributes+ distance to center+Policy Attributes"
   ]
  },
  {
   "cell_type": "code",
   "execution_count": 20,
   "metadata": {},
   "outputs": [
    {
     "name": "stdout",
     "output_type": "stream",
     "text": [
      "                            OLS Regression Results                            \n",
      "==============================================================================\n",
      "Dep. Variable:          price in Euro   R-squared:                       0.573\n",
      "Model:                            OLS   Adj. R-squared:                  0.573\n",
      "Method:                 Least Squares   F-statistic:                 1.154e+04\n",
      "Date:                Thu, 05 Dec 2019   Prob (F-statistic):               0.00\n",
      "Time:                        19:15:07   Log-Likelihood:            -1.6604e+05\n",
      "No. Observations:              249557   AIC:                         3.321e+05\n",
      "Df Residuals:                  249527   BIC:                         3.325e+05\n",
      "Df Model:                          29                                         \n",
      "Covariance Type:            nonrobust                                         \n",
      "=======================================================================================\n",
      "                          coef    std err          t      P>|t|      [0.025      0.975]\n",
      "---------------------------------------------------------------------------------------\n",
      "const                   3.5404      0.007    476.772      0.000       3.526       3.555\n",
      "minimum_nights         -0.0239      0.001    -36.509      0.000      -0.025      -0.023\n",
      "cancellation_policy     0.0115      0.002      5.837      0.000       0.008       0.015\n",
      "instant_bookable        0.0113      0.002      5.667      0.000       0.007       0.015\n",
      "property_type           0.0064      0.002      3.207      0.001       0.002       0.010\n",
      "accommodates            0.1034      0.001    105.540      0.000       0.101       0.105\n",
      "bathrooms               0.1337      0.002     66.020      0.000       0.130       0.138\n",
      "bedrooms                0.1171      0.002     55.246      0.000       0.113       0.121\n",
      "beds                   -0.0301      0.001    -21.240      0.000      -0.033      -0.027\n",
      "amenities_counts        0.0019   8.19e-05     23.231      0.000       0.002       0.002\n",
      "info_count              0.0002    6.1e-06     30.927      0.000       0.000       0.000\n",
      "distance_Km            -0.0674      0.002    -39.160      0.000      -0.071      -0.064\n",
      "Private room           -0.4788      0.002   -214.154      0.000      -0.483      -0.474\n",
      "Shared room            -1.1489      0.004   -257.043      0.000      -1.158      -1.140\n",
      "2018-05                 0.0106      0.007      1.524      0.128      -0.003       0.024\n",
      "2018-07                 0.0372      0.007      5.490      0.000       0.024       0.050\n",
      "2018-08                 0.0525      0.007      7.765      0.000       0.039       0.066\n",
      "2018-09                 0.0522      0.007      7.852      0.000       0.039       0.065\n",
      "2018-10                 0.0387      0.007      5.916      0.000       0.026       0.051\n",
      "2018-11                 0.0365      0.006      5.631      0.000       0.024       0.049\n",
      "2018-12                 0.0313      0.006      4.872      0.000       0.019       0.044\n",
      "2019-01                 0.0306      0.006      4.817      0.000       0.018       0.043\n",
      "2019-02                 0.0313      0.006      4.964      0.000       0.019       0.044\n",
      "2019-03                 0.0379      0.006      6.025      0.000       0.026       0.050\n",
      "2019-04                 0.0420      0.006      6.758      0.000       0.030       0.054\n",
      "2019-05                 0.0506      0.006      8.274      0.000       0.039       0.063\n",
      "2019-06                 0.0599      0.006      9.877      0.000       0.048       0.072\n",
      "2019-07                 0.0723      0.006     11.980      0.000       0.061       0.084\n",
      "2019-08                 0.0833      0.006     13.820      0.000       0.071       0.095\n",
      "2019-09                 0.0876      0.006     14.508      0.000       0.076       0.099\n",
      "==============================================================================\n",
      "Omnibus:                    79584.580   Durbin-Watson:                   1.871\n",
      "Prob(Omnibus):                  0.000   Jarque-Bera (JB):          1068425.389\n",
      "Skew:                           1.159   Prob(JB):                         0.00\n",
      "Kurtosis:                      12.868   Cond. No.                     4.32e+03\n",
      "==============================================================================\n",
      "\n",
      "Warnings:\n",
      "[1] Standard Errors assume that the covariance matrix of the errors is correctly specified.\n",
      "[2] The condition number is large, 4.32e+03. This might indicate that there are\n",
      "strong multicollinearity or other numerical problems.\n"
     ]
    }
   ],
   "source": [
    "# instant_bookable true = 1 ## instant bookable ones has lower price cause those ones normamly want to attact users\n",
    "#  strict = 1 strict has higher price \n",
    "# the beds one we can explain as special hosting or non special hosting\n",
    "df3 = df[['minimum_nights','cancellation_policy','instant_bookable']]\n",
    "df_x3 = pd.concat([df3,df_x2],axis =1)\n",
    "df_x_const = sm.add_constant(df_x3).apply(pd.to_numeric)\n",
    "\n",
    "df_y = df['price in Euro'].apply(lambda x: np.log(x))\n",
    "#df_y = df_listings['price in Euro']\n",
    "model3 = sm.OLS(df_y, df_x_const).fit() \n",
    "print(model3.summary())"
   ]
  },
  {
   "cell_type": "markdown",
   "metadata": {},
   "source": [
    "### Model-4 listing attributes+ distance to center+Policy Attributes+reviews"
   ]
  },
  {
   "cell_type": "code",
   "execution_count": 21,
   "metadata": {},
   "outputs": [
    {
     "name": "stdout",
     "output_type": "stream",
     "text": [
      "                            OLS Regression Results                            \n",
      "==============================================================================\n",
      "Dep. Variable:          price in Euro   R-squared:                       0.576\n",
      "Model:                            OLS   Adj. R-squared:                  0.575\n",
      "Method:                 Least Squares   F-statistic:                 1.091e+04\n",
      "Date:                Thu, 05 Dec 2019   Prob (F-statistic):               0.00\n",
      "Time:                        19:15:15   Log-Likelihood:            -1.6529e+05\n",
      "No. Observations:              249557   AIC:                         3.307e+05\n",
      "Df Residuals:                  249525   BIC:                         3.310e+05\n",
      "Df Model:                          31                                         \n",
      "Covariance Type:            nonrobust                                         \n",
      "========================================================================================\n",
      "                           coef    std err          t      P>|t|      [0.025      0.975]\n",
      "----------------------------------------------------------------------------------------\n",
      "const                    3.4646      0.011    307.193      0.000       3.442       3.487\n",
      "number_of_reviews       -0.0019   5.02e-05    -37.681      0.000      -0.002      -0.002\n",
      "review_scores_rating     0.0201      0.002     10.608      0.000       0.016       0.024\n",
      "minimum_nights          -0.0248      0.001    -37.878      0.000      -0.026      -0.024\n",
      "cancellation_policy      0.0229      0.002     11.491      0.000       0.019       0.027\n",
      "instant_bookable         0.0124      0.002      6.230      0.000       0.009       0.016\n",
      "property_type            0.0106      0.002      5.336      0.000       0.007       0.014\n",
      "accommodates             0.1030      0.001    105.487      0.000       0.101       0.105\n",
      "bathrooms                0.1333      0.002     66.021      0.000       0.129       0.137\n",
      "bedrooms                 0.1138      0.002     53.837      0.000       0.110       0.118\n",
      "beds                    -0.0283      0.001    -20.021      0.000      -0.031      -0.026\n",
      "amenities_counts         0.0022   8.26e-05     26.863      0.000       0.002       0.002\n",
      "info_count               0.0002   6.28e-06     39.050      0.000       0.000       0.000\n",
      "distance_Km             -0.0752      0.002    -43.522      0.000      -0.079      -0.072\n",
      "Private room            -0.4770      0.002   -213.656      0.000      -0.481      -0.473\n",
      "Shared room             -1.1479      0.004   -257.523      0.000      -1.157      -1.139\n",
      "2018-05                  0.0109      0.007      1.571      0.116      -0.003       0.024\n",
      "2018-07                  0.0380      0.007      5.632      0.000       0.025       0.051\n",
      "2018-08                  0.0541      0.007      8.026      0.000       0.041       0.067\n",
      "2018-09                  0.0544      0.007      8.207      0.000       0.041       0.067\n",
      "2018-10                  0.0408      0.007      6.259      0.000       0.028       0.054\n",
      "2018-11                  0.0392      0.006      6.065      0.000       0.027       0.052\n",
      "2018-12                  0.0342      0.006      5.339      0.000       0.022       0.047\n",
      "2019-01                  0.0334      0.006      5.264      0.000       0.021       0.046\n",
      "2019-02                  0.0342      0.006      5.429      0.000       0.022       0.046\n",
      "2019-03                  0.0410      0.006      6.536      0.000       0.029       0.053\n",
      "2019-04                  0.0453      0.006      7.317      0.000       0.033       0.057\n",
      "2019-05                  0.0543      0.006      8.903      0.000       0.042       0.066\n",
      "2019-06                  0.0640      0.006     10.582      0.000       0.052       0.076\n",
      "2019-07                  0.0767      0.006     12.738      0.000       0.065       0.089\n",
      "2019-08                  0.0883      0.006     14.688      0.000       0.077       0.100\n",
      "2019-09                  0.0938      0.006     15.580      0.000       0.082       0.106\n",
      "==============================================================================\n",
      "Omnibus:                    79353.420   Durbin-Watson:                   1.869\n",
      "Prob(Omnibus):                  0.000   Jarque-Bera (JB):          1069503.577\n",
      "Skew:                           1.153   Prob(JB):                         0.00\n",
      "Kurtosis:                      12.876   Cond. No.                     4.36e+03\n",
      "==============================================================================\n",
      "\n",
      "Warnings:\n",
      "[1] Standard Errors assume that the covariance matrix of the errors is correctly specified.\n",
      "[2] The condition number is large, 4.36e+03. This might indicate that there are\n",
      "strong multicollinearity or other numerical problems.\n"
     ]
    }
   ],
   "source": [
    "df4 = df.dropna(subset = ['number_of_reviews','review_scores_rating'])\n",
    "df4 = df4[['number_of_reviews','review_scores_rating']]\n",
    "df_x4 = pd.concat([df4,df_x3],axis =1)\n",
    "df_x_const = sm.add_constant(df_x4).apply(pd.to_numeric)\n",
    "df_x_const = df_x_const.dropna(subset = ['number_of_reviews','review_scores_rating'])\n",
    "df4index = list(df.index.values)\n",
    "\n",
    "df_y = df['price in Euro'].apply(lambda x: np.log(x))\n",
    "#df_y = df_listings['price in Euro']\n",
    "model4 = sm.OLS(df_y, df_x_const).fit() \n",
    "print(model4.summary())"
   ]
  },
  {
   "cell_type": "code",
   "execution_count": 22,
   "metadata": {},
   "outputs": [
    {
     "data": {
      "text/plain": [
       "array(['number_of_reviews', 'review_scores_rating', 'minimum_nights',\n",
       "       'cancellation_policy', 'instant_bookable', 'property_type',\n",
       "       'accommodates', 'bathrooms', 'bedrooms', 'beds',\n",
       "       'amenities_counts', 'info_count', 'distance_Km', 'Private room',\n",
       "       'Shared room', '2018-05', '2018-07', '2018-08', '2018-09',\n",
       "       '2018-10', '2018-11', '2018-12', '2019-01', '2019-02', '2019-03',\n",
       "       '2019-04', '2019-05', '2019-06', '2019-07', '2019-08', '2019-09'],\n",
       "      dtype=object)"
      ]
     },
     "execution_count": 22,
     "metadata": {},
     "output_type": "execute_result"
    }
   ],
   "source": [
    "df_x4.columns.values"
   ]
  },
  {
   "cell_type": "markdown",
   "metadata": {},
   "source": [
    "### Model-5 listing attributes+ distance to center+host attributes+Policy Attributes+reviews+hosts"
   ]
  },
  {
   "cell_type": "code",
   "execution_count": 23,
   "metadata": {},
   "outputs": [
    {
     "name": "stdout",
     "output_type": "stream",
     "text": [
      "                            OLS Regression Results                            \n",
      "==============================================================================\n",
      "Dep. Variable:          price in Euro   R-squared:                       0.575\n",
      "Model:                            OLS   Adj. R-squared:                  0.575\n",
      "Method:                 Least Squares   F-statistic:                 1.022e+04\n",
      "Date:                Thu, 05 Dec 2019   Prob (F-statistic):               0.00\n",
      "Time:                        19:15:19   Log-Likelihood:            -1.5956e+05\n",
      "No. Observations:              249476   AIC:                         3.192e+05\n",
      "Df Residuals:                  249442   BIC:                         3.195e+05\n",
      "Df Model:                          33                                         \n",
      "Covariance Type:            nonrobust                                         \n",
      "==========================================================================================\n",
      "                             coef    std err          t      P>|t|      [0.025      0.975]\n",
      "------------------------------------------------------------------------------------------\n",
      "const                      3.4884      0.011    314.098      0.000       3.467       3.510\n",
      "host_is_superhost         -0.0077      0.002     -3.572      0.000      -0.012      -0.003\n",
      "host_identity_verified    -0.0078      0.002     -3.633      0.000      -0.012      -0.004\n",
      "number_of_reviews         -0.0018   5.05e-05    -35.545      0.000      -0.002      -0.002\n",
      "review_scores_rating       0.0206      0.002     10.996      0.000       0.017       0.024\n",
      "minimum_nights            -0.0239      0.001    -37.377      0.000      -0.025      -0.023\n",
      "cancellation_policy        0.0231      0.002     11.810      0.000       0.019       0.027\n",
      "instant_bookable           0.0114      0.002      5.844      0.000       0.008       0.015\n",
      "property_type              0.0101      0.002      5.212      0.000       0.006       0.014\n",
      "accommodates               0.1008      0.001    105.537      0.000       0.099       0.103\n",
      "bathrooms                  0.1329      0.002     67.301      0.000       0.129       0.137\n",
      "bedrooms                   0.1125      0.002     54.383      0.000       0.108       0.117\n",
      "beds                      -0.0269      0.001    -19.473      0.000      -0.030      -0.024\n",
      "amenities_counts           0.0022   8.15e-05     27.142      0.000       0.002       0.002\n",
      "info_count                 0.0002   6.15e-06     39.072      0.000       0.000       0.000\n",
      "distance_Km               -0.0729      0.002    -43.134      0.000      -0.076      -0.070\n",
      "Private room              -0.4618      0.002   -211.295      0.000      -0.466      -0.457\n",
      "Shared room               -1.1024      0.004   -252.973      0.000      -1.111      -1.094\n",
      "2018-05                    0.0094      0.007      1.386      0.166      -0.004       0.023\n",
      "2018-07                    0.0362      0.007      5.484      0.000       0.023       0.049\n",
      "2018-08                    0.0514      0.007      7.798      0.000       0.038       0.064\n",
      "2018-09                    0.0515      0.006      7.937      0.000       0.039       0.064\n",
      "2018-10                    0.0381      0.006      5.971      0.000       0.026       0.051\n",
      "2018-11                    0.0364      0.006      5.754      0.000       0.024       0.049\n",
      "2018-12                    0.0315      0.006      5.007      0.000       0.019       0.044\n",
      "2019-01                    0.0307      0.006      4.932      0.000       0.018       0.043\n",
      "2019-02                    0.0314      0.006      5.086      0.000       0.019       0.043\n",
      "2019-03                    0.0379      0.006      6.160      0.000       0.026       0.050\n",
      "2019-04                    0.0421      0.006      6.931      0.000       0.030       0.054\n",
      "2019-05                    0.0506      0.006      8.458      0.000       0.039       0.062\n",
      "2019-06                    0.0605      0.006     10.211      0.000       0.049       0.072\n",
      "2019-07                    0.0739      0.006     12.491      0.000       0.062       0.085\n",
      "2019-08                    0.0852      0.006     14.421      0.000       0.074       0.097\n",
      "2019-09                    0.0902      0.006     15.258      0.000       0.079       0.102\n",
      "==============================================================================\n",
      "Omnibus:                    83287.301   Durbin-Watson:                   1.869\n",
      "Prob(Omnibus):                  0.000   Jarque-Bera (JB):          1176793.560\n",
      "Skew:                           1.215   Prob(JB):                         0.00\n",
      "Kurtosis:                      13.359   Cond. No.                     4.37e+03\n",
      "==============================================================================\n",
      "\n",
      "Warnings:\n",
      "[1] Standard Errors assume that the covariance matrix of the errors is correctly specified.\n",
      "[2] The condition number is large, 4.37e+03. This might indicate that there are\n",
      "strong multicollinearity or other numerical problems.\n"
     ]
    }
   ],
   "source": [
    "df5 = df.dropna(subset = ['host_is_superhost','host_identity_verified'])\n",
    "x_list = ['host_is_superhost','host_identity_verified']\n",
    "df4list = list(df_x4.columns.values)\n",
    "x_list.extend(df4list)\n",
    "df_x5 = df5[x_list]\n",
    "df_x_const = sm.add_constant(df_x5).apply(pd.to_numeric)\n",
    "\n",
    "df_y = df5['price in Euro'].apply(lambda x: np.log(1+x))\n",
    "#df_y = df_listings['price in Euro']\n",
    "model5 = sm.OLS(df_y, df_x_const).fit() \n",
    "print(model5.summary())"
   ]
  },
  {
   "cell_type": "code",
   "execution_count": 27,
   "metadata": {},
   "outputs": [
    {
     "name": "stdout",
     "output_type": "stream",
     "text": [
      "                             Airbnb-Price-Determinate-Regression\n",
      "=============================================================================================\n",
      "                       Lisingt_attributes Add_distance  Add_policy   Add_review    Add_host  \n",
      "---------------------------------------------------------------------------------------------\n",
      "info_count             0.000207***        0.000181***  0.000189***  0.000245***  0.000240*** \n",
      "                       (0.000006)         (0.000006)   (0.000006)   (0.000006)   (0.000006)  \n",
      "amenities_counts       0.001912***        0.001982***  0.001902***  0.002218***  0.002212*** \n",
      "                       (0.000082)         (0.000081)   (0.000082)   (0.000083)   (0.000082)  \n",
      "beds                   -0.030155***       -0.030670*** -0.030121*** -0.028323*** -0.026939***\n",
      "                       (0.001426)         (0.001422)   (0.001418)   (0.001415)   (0.001383)  \n",
      "bedrooms               0.112718***        0.115539***  0.117078***  0.113846***  0.112492*** \n",
      "                       (0.002128)         (0.002124)   (0.002119)   (0.002115)   (0.002069)  \n",
      "bathrooms              0.119014***        0.132799***  0.133692***  0.133331***  0.132907*** \n",
      "                       (0.002002)         (0.002030)   (0.002025)   (0.002020)   (0.001975)  \n",
      "accommodates           0.104490***        0.104959***  0.103352***  0.102997***  0.100770*** \n",
      "                       (0.000983)         (0.000980)   (0.000979)   (0.000976)   (0.000955)  \n",
      "property_type          0.005556***        0.005141***  0.006373***  0.010590***  0.010118*** \n",
      "                       (0.001996)         (0.001991)   (0.001988)   (0.001985)   (0.001941)  \n",
      "Private room           -0.483460***       -0.482956*** -0.478800*** -0.477034*** -0.461777***\n",
      "                       (0.002241)         (0.002235)   (0.002236)   (0.002233)   (0.002185)  \n",
      "Shared room            -1.139202***       -1.150402*** -1.148891*** -1.147893*** -1.102422***\n",
      "                       (0.004478)         (0.004476)   (0.004470)   (0.004457)   (0.004358)  \n",
      "distance_Km                               -0.064167*** -0.067401*** -0.075202*** -0.072911***\n",
      "                                          (0.001706)   (0.001721)   (0.001728)   (0.001690)  \n",
      "minimum_nights                                         -0.023944*** -0.024785*** -0.023939***\n",
      "                                                       (0.000656)   (0.000654)   (0.000640)  \n",
      "cancellation_policy                                    0.011527***  0.022901***  0.023105*** \n",
      "                                                       (0.001975)   (0.001993)   (0.001956)  \n",
      "instant_bookable                                       0.011328***  0.012421***  0.011434*** \n",
      "                                                       (0.001999)   (0.001994)   (0.001956)  \n",
      "number_of_reviews                                                   -0.001893*** -0.001794***\n",
      "                                                                    (0.000050)   (0.000050)  \n",
      "review_scores_rating                                                0.020121***  0.020640*** \n",
      "                                                                    (0.001897)   (0.001877)  \n",
      "host_is_superhost                                                                -0.007721***\n",
      "                                                                                 (0.002162)  \n",
      "host_identity_verified                                                           -0.007783***\n",
      "                                                                                 (0.002143)  \n",
      "R-squared              0.568109           0.570544     0.572957     0.575510     0.574773    \n",
      "No. observations       249557             249557       249557       249557       249476      \n",
      "=============================================================================================\n",
      "Standard errors in parentheses.\n",
      "* p<.1, ** p<.05, ***p<.01\n"
     ]
    }
   ],
   "source": [
    "info_dict={'R-squared' : lambda x: f\"{x.rsquared:.6f}\",\n",
    "           'No. observations' : lambda x: f\"{int(x.nobs):d}\"}\n",
    "\n",
    "results_table = summary_col(results=[model1,model2,model3,model4,model5],\n",
    "                            float_format='%0.6f',\n",
    "                            stars = True,\n",
    "                            model_names=['Lisingt_attributes',\n",
    "                                         'Add_distance',\n",
    "                                         'Add_policy',\n",
    "                                         'Add_review',\n",
    "                                         'Add_host'],\n",
    "                            info_dict=info_dict,\n",
    "                            regressor_order = ['info_count',\n",
    "                                             'amenities_counts',\n",
    "                                             'beds',\n",
    "                                             'bedrooms',\n",
    "                                             'bathrooms',\n",
    "                                             'accommodates',\n",
    "                                             'property_type',\n",
    "                                             'Private room',\n",
    "                                             'Shared room',\n",
    "                                             'distance_Km',\n",
    "                                             'minimum_nights','cancellation_policy','instant_bookable',\n",
    "                                             'number_of_reviews','review_scores_rating',\n",
    "                                             'host_is_superhost','host_identity_verified'],\n",
    "                           drop_omitted = True)\n",
    "                                        \n",
    "\n",
    "results_table.add_title('Airbnb-Price-Determinate-Regression')\n",
    "\n",
    "print(results_table)"
   ]
  },
  {
   "cell_type": "code",
   "execution_count": null,
   "metadata": {},
   "outputs": [],
   "source": []
  }
 ],
 "metadata": {
  "kernelspec": {
   "display_name": "Python 3",
   "language": "python",
   "name": "python3"
  },
  "language_info": {
   "codemirror_mode": {
    "name": "ipython",
    "version": 3
   },
   "file_extension": ".py",
   "mimetype": "text/x-python",
   "name": "python",
   "nbconvert_exporter": "python",
   "pygments_lexer": "ipython3",
   "version": "3.7.3"
  }
 },
 "nbformat": 4,
 "nbformat_minor": 2
}
