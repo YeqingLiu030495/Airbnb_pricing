{
 "cells": [
  {
   "cell_type": "code",
   "execution_count": 2,
   "metadata": {},
   "outputs": [],
   "source": [
    "import pandas as pd\n",
    "import numpy as np\n",
    "import datetime as dt\n",
    "import geopy.distance\n",
    "\n",
    "\n",
    "%store -r words_count \n",
    "%store -r host_attributes_1\n",
    "%store -r host_attributes_2\n",
    "%store -r review_1\n",
    "%store -r review_2\n",
    "%store -r house_attributes\n",
    "%store -r policies\n",
    "%store -r location_"
   ]
  },
  {
   "cell_type": "markdown",
   "metadata": {},
   "source": [
    "### read in the data and replace all missing with 0"
   ]
  },
  {
   "cell_type": "code",
   "execution_count": 3,
   "metadata": {},
   "outputs": [],
   "source": [
    "## we didnt get rid of duplicated listings because after adding monthly fixed effect\n",
    "## we treat every point as an individual data(i.e some same listing improved listing attributes over time)\n",
    "df_listings = pd.read_csv('listing_1_yr_beijing.csv',index_col=0)\n",
    "df_listings['year'] = df_listings['year'].apply(lambda x: x[:7])\n",
    "\n",
    "\n",
    "time_dummy = pd.get_dummies(df_listings['year']).iloc[:,1:] ## add monthly fixed effect, drop 2018-10 as baseline\n",
    "df_listings = pd.concat([df_listings,time_dummy], axis = 1)\n",
    "df_listings = df_listings.replace({'bedrooms': np.nan, 'beds': np.nan,'bathrooms': np.nan}, 0)  ## fill all missing values with 0\n",
    "#df_listings = df_listings.replace(np.nan,'0')\n",
    "\n",
    "## got rid of min_night more than 28, since otherwise they are rented house advertisement\n",
    "df_listings = df_listings.loc[df_listings.minimum_nights <= 28, :] \n",
    "## gor rid of beds more than 10 beds, most of them doesn exist\n",
    "df_listings = df_listings.loc[df_listings.beds <= 10, :] \n",
    "## gor rid of beds more than 10 bedroomss, most of them doesn exist\n",
    "df_listings = df_listings.loc[df_listings.bedrooms <= 10, :] \n",
    "## gor rid of beds more than 10 bathrooms, most of them doesn exist\n",
    "df_listings = df_listings.loc[df_listings.bathrooms <= 10, :] "
   ]
  },
  {
   "cell_type": "markdown",
   "metadata": {},
   "source": [
    "### covert price to euro "
   ]
  },
  {
   "cell_type": "code",
   "execution_count": 4,
   "metadata": {},
   "outputs": [],
   "source": [
    "df_listings['price'] = df_listings.price.apply(lambda x: str(x)[1:-3].replace(',',''))\n",
    "df_listings['price in Euro'] = df_listings.price.apply(lambda x: int(x) * 0.13)"
   ]
  },
  {
   "cell_type": "markdown",
   "metadata": {},
   "source": [
    "### generate info count"
   ]
  },
  {
   "cell_type": "code",
   "execution_count": 5,
   "metadata": {},
   "outputs": [],
   "source": [
    "#remove price<=0\n",
    "df_listings= df_listings.loc[df_listings['price in Euro']>0, :] "
   ]
  },
  {
   "cell_type": "code",
   "execution_count": 6,
   "metadata": {},
   "outputs": [],
   "source": [
    "## generate a info column decribe how many words are there in the descriptional info \n",
    "## such as summary, space, description\n",
    "df_listings['info_count'] = 0\n",
    "\n",
    "for word in words_count:\n",
    "    count = df_listings[word].apply(lambda x: 0 if str(x) == '0' else len(str(x).split(' ')))\n",
    "    df_listings['info_count'] += count\n",
    "\n",
    "df_listings = df_listings.drop(words_count,axis=1)"
   ]
  },
  {
   "cell_type": "markdown",
   "metadata": {},
   "source": [
    "### clean the data for house_attributes "
   ]
  },
  {
   "cell_type": "code",
   "execution_count": 7,
   "metadata": {},
   "outputs": [],
   "source": [
    "df_listings = df_listings.replace({'bedrooms': 0, 'beds': 0}, 1)"
   ]
  },
  {
   "cell_type": "code",
   "execution_count": 8,
   "metadata": {},
   "outputs": [],
   "source": [
    "# there are 4 differenct room type ['Entire home/apt', 'Hotel room', 'Private room', 'Shared room']\n",
    "room_type_dummy = pd.get_dummies(df_listings['room_type']).iloc[:,1:] ## dropped entire apt as baseline\n",
    "df_listings = pd.concat([df_listings,room_type_dummy], axis = 1)\n",
    "\n",
    "# property_type -- divide into special, non special and missing values\n",
    "property_type = [x for x in df_listings.property_type.unique()]\n",
    "\n",
    "property_type_special = ['Condominium','Houseboat','Boat','Other','Tiny house','House',\\\n",
    "                         'Townhouse','Cottage', 'Nature lodge', 'Igloo', 'Cave','Earth house',\\\n",
    "                         'Treehouse', 'Resort', 'Campsite', 'Castle','In-law', 'Chalet', 'Tipi', \\\n",
    "                         'Hut', 'Island', 'Lighthouse','Vacation home', 'Farm stay', 'Timeshare',\\\n",
    "                         'Earth House', 'Casa particular', 'Train', 'Floor']\n",
    "\n",
    "property_type_non_special= list(set(property_type) - set(property_type_special))\n",
    "\n",
    "df_listings['property_type'] = df_listings['property_type'].apply(lambda x: 0 if x in property_type_special else x)\n",
    "df_listings['property_type'] = df_listings['property_type'].apply(lambda x: 1 if x in property_type_non_special else x)\n",
    "\n",
    "\n",
    "\n",
    "\n",
    "# amenities_counts -- the number of amenities the listing provides\n",
    "df_listings['amenities_counts'] = df_listings['amenities'].apply(lambda x: 0 if str(x) == 0 else len(str(x).split(',')))"
   ]
  },
  {
   "cell_type": "markdown",
   "metadata": {},
   "source": [
    "### location model variables"
   ]
  },
  {
   "cell_type": "code",
   "execution_count": 9,
   "metadata": {},
   "outputs": [],
   "source": [
    "df_listings['cordinates'] = list(zip(df_listings.latitude, df_listings.longitude))\n",
    "cord_1=(39.9055,116.3976)\n",
    "df_listings['Tiananmen'] = df_listings.cordinates.apply(lambda x: geopy.distance.distance(x, cord_1).km)\n",
    "cord_2=(40.0000,116.2755)\n",
    "df_listings['Summerpalace'] = df_listings.cordinates.apply(lambda x: geopy.distance.distance(x, cord_2).km)\n",
    "cord_3=(39.8822,116.4066)\n",
    "df_listings['HavenPalce'] = df_listings.cordinates.apply(lambda x: geopy.distance.distance(x, cord_3).km)\n",
    "cord_4=(40.0081,116.2982)\n",
    "df_listings['Yuanmingyuan'] = df_listings.cordinates.apply(lambda x: geopy.distance.distance(x, cord_4).km)\n",
    "cord_5=(39.9924,116.3394)\n",
    "df_listings['Wudaokou'] = df_listings.cordinates.apply(lambda x: geopy.distance.distance(x, cord_5).km)\n",
    "\n",
    "df_listings['distance_Km'] = df_listings[['Tiananmen', 'Summerpalace','HavenPalce','Yuanmingyuan','Wudaokou']].mean(axis=1)\n",
    "\n",
    "df_listings = df_listings.drop(['cordinates','Tiananmen', 'Summerpalace','HavenPalce','Yuanmingyuan','Wudaokou'],axis = 1)"
   ]
  },
  {
   "cell_type": "markdown",
   "metadata": {},
   "source": [
    "### policies"
   ]
  },
  {
   "cell_type": "code",
   "execution_count": 10,
   "metadata": {},
   "outputs": [],
   "source": [
    "## instant_bookable is a binary variable\n",
    "df_listings['instant_bookable'] = df_listings['instant_bookable'].map({'f':0,'t':1})\n",
    "\n",
    "# policy_dummy['flexible', ['strict_14_with_grace_period', 'moderate',\n",
    "#              'super_strict_30', 'strict', 'super_strict_60',\n",
    "#             'luxury_super_strict_95']\n",
    "## group only to strict and nonstrict\n",
    "\n",
    "df_listings.loc[df_listings.cancellation_policy != 'flexible', 'cancellation_policy'] = 1\n",
    "df_listings.loc[df_listings.cancellation_policy == 'flexible', 'cancellation_policy'] = 0"
   ]
  },
  {
   "cell_type": "markdown",
   "metadata": {},
   "source": [
    "### reviews "
   ]
  },
  {
   "cell_type": "code",
   "execution_count": 17,
   "metadata": {},
   "outputs": [],
   "source": [
    "##drop missing values according to the info of reviews\n",
    "\n",
    "df_listings = df_listings.dropna(axis=0, subset=['review_scores_rating','review_scores_accuracy','review_scores_cleanliness',\\\n",
    "                          'review_scores_checkin','review_scores_communication','review_scores_location',\\\n",
    "                          'review_scores_value'])"
   ]
  },
  {
   "cell_type": "code",
   "execution_count": 12,
   "metadata": {},
   "outputs": [],
   "source": [
    "df_listings= df_listings.loc[df_listings['review_scores_rating']>0, :] \n",
    "df_listings= df_listings.loc[df_listings['review_scores_accuracy']>0, :] \n",
    "df_listings= df_listings.loc[df_listings['review_scores_cleanliness']>0, :] \n",
    "df_listings= df_listings.loc[df_listings['review_scores_checkin']>0, :] \n",
    "df_listings= df_listings.loc[df_listings['review_scores_communication']>0, :] \n",
    "df_listings= df_listings.loc[df_listings['review_scores_location']>0, :] \n",
    "df_listings= df_listings.loc[df_listings['review_scores_value']>0, :] "
   ]
  },
  {
   "cell_type": "code",
   "execution_count": 13,
   "metadata": {},
   "outputs": [],
   "source": [
    "df_listings['review_scores_rating']= df_listings.review_scores_rating.apply(lambda x: int(x)/20)\n",
    "df_listings['review_scores_accuracy']= df_listings.review_scores_accuracy.apply(lambda x: int(x)/2)\n",
    "df_listings['review_scores_cleanliness']= df_listings.review_scores_cleanliness.apply(lambda x: int(x)/2)\n",
    "df_listings['review_scores_checkin']= df_listings.review_scores_checkin.apply(lambda x: int(x)/2)\n",
    "df_listings['review_scores_communication']= df_listings.review_scores_communication.apply(lambda x: int(x)/2)\n",
    "df_listings['review_scores_location']= df_listings.review_scores_location.apply(lambda x: int(x)/2)\n",
    "df_listings['review_scores_value']= df_listings.review_scores_value.apply(lambda x: int(x)/2)"
   ]
  },
  {
   "cell_type": "code",
   "execution_count": 14,
   "metadata": {},
   "outputs": [],
   "source": [
    "df_listings['if_reviewed'] = df_listings.number_of_reviews.apply(lambda x: 0 if x == '0' else 1)"
   ]
  },
  {
   "cell_type": "markdown",
   "metadata": {},
   "source": [
    "### host_attributes "
   ]
  },
  {
   "cell_type": "code",
   "execution_count": 15,
   "metadata": {},
   "outputs": [],
   "source": [
    "#superhost is a binary variable 1=t and f=0\n",
    "df_listings['host_is_superhost'] = df_listings['host_is_superhost'].map({'f':0,'t':1})\n",
    "#host identity verified 1=yes and f=0 binary variable some of the superhosts are not verified there for this variables is necessary\n",
    "df_listings['host_identity_verified'] = df_listings['host_identity_verified'].map({'f':0,'t':1})"
   ]
  },
  {
   "cell_type": "code",
   "execution_count": 16,
   "metadata": {},
   "outputs": [
    {
     "data": {
      "text/plain": [
       "(249557, 52)"
      ]
     },
     "execution_count": 16,
     "metadata": {},
     "output_type": "execute_result"
    }
   ],
   "source": [
    "df_listings.shape"
   ]
  },
  {
   "cell_type": "markdown",
   "metadata": {},
   "source": [
    "### export csv file"
   ]
  },
  {
   "cell_type": "code",
   "execution_count": 19,
   "metadata": {},
   "outputs": [],
   "source": [
    "df_listings.to_csv('airbnbdata_cleaned.csv')"
   ]
  },
  {
   "cell_type": "code",
   "execution_count": 20,
   "metadata": {},
   "outputs": [
    {
     "name": "stdout",
     "output_type": "stream",
     "text": [
      "Stored 'time_dummy' (DataFrame)\n",
      "Stored 'room_type_dummy' (DataFrame)\n"
     ]
    }
   ],
   "source": [
    "%store time_dummy\n",
    "%store room_type_dummy"
   ]
  },
  {
   "cell_type": "code",
   "execution_count": null,
   "metadata": {},
   "outputs": [],
   "source": []
  }
 ],
 "metadata": {
  "kernelspec": {
   "display_name": "Python 3",
   "language": "python",
   "name": "python3"
  },
  "language_info": {
   "codemirror_mode": {
    "name": "ipython",
    "version": 3
   },
   "file_extension": ".py",
   "mimetype": "text/x-python",
   "name": "python",
   "nbconvert_exporter": "python",
   "pygments_lexer": "ipython3",
   "version": "3.7.3"
  }
 },
 "nbformat": 4,
 "nbformat_minor": 2
}
